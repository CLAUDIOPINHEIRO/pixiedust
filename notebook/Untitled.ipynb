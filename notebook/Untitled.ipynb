{
 "cells": [
  {
   "cell_type": "code",
   "execution_count": null,
   "metadata": {
    "collapsed": true
   },
   "outputs": [],
   "source": [
    "if sc.version.startswith('1.6.'):\n",
    "    sp = SQLContext(sc)\n",
    "elif sc.version.startswith('2.'):\n",
    "    sp = SparkSession.builder.getOrCreate()"
   ]
  },
  {
   "cell_type": "code",
   "execution_count": null,
   "metadata": {
    "collapsed": false
   },
   "outputs": [],
   "source": [
    "from pixiedust.display.app import *\n",
    "@PixieApp\n",
    "class HelloWorldPixieAppWithData:    \n",
    "    @route()\n",
    "    def main(self):\n",
    "        return\"\"\"\n",
    "        <div class=\"row\">\n",
    "            <div class=\"col-sm-2\">\n",
    "                <input pd_options=\"handlerId=dataframe\" \n",
    "                       pd_entity \n",
    "                       pd_target=\"target{{prefix}}\" \n",
    "                       type=\"button\" value=\"Preview Data\">\n",
    "            </div>\n",
    "            <div class=\"col-sm-10\" id=\"target{{prefix}}\"/>\n",
    "        </div>\n",
    "        \"\"\"\n",
    "#Create dataframe\n",
    "df = sp.createDataFrame(\n",
    "[(2010, 'Camping Equipment', 3, 200),(2010, 'Camping Equipment', 10, 200),(2010, 'Golf Equipment', 1, 240),\n",
    " (2010, 'Mountaineering Equipment', 1, 348),(2010, 'Outdoor Protection',2,200),(2010, 'Personal Accessories', 2, 200),\n",
    " (2011, 'Camping Equipment', 4, 489),(2011, 'Golf Equipment', 5, 234),(2011, 'Mountaineering Equipment',2, 123),\n",
    " (2011, 'Outdoor Protection', 4, 654),(2011, 'Personal Accessories', 2, 234),(2012, 'Camping Equipment', 5, 876),\n",
    " (2012, 'Golf Equipment', 5, 200),(2012, 'Mountaineering Equipment', 3, 156),(2012, 'Outdoor Protection', 5, 200),\n",
    " (2012, 'Personal Accessories', 3, 345),(2013, 'Camping Equipment', 8, 987),(2013, 'Golf Equipment', 5, 434),\n",
    " (2013, 'Mountaineering Equipment', 3, 278),(2013, 'Outdoor Protection', 8, 134),(2013,'Personal Accessories',4, 200)],\n",
    "[\"year\",\"zone\",\"unique_customers\", \"revenue\"])\n",
    "\n",
    "#run the app\n",
    "HelloWorldPixieAppWithData().run(df, runInDialog='false')\n",
    "\n"
   ]
  }
 ],
 "metadata": {
  "kernelspec": {
   "display_name": "Python with Pixiedust (Spark 1.6)",
   "language": "python",
   "name": "pythonwithpixiedustspark16"
  },
  "language_info": {
   "codemirror_mode": {
    "name": "ipython",
    "version": 2
   },
   "file_extension": ".py",
   "mimetype": "text/x-python",
   "name": "python",
   "nbconvert_exporter": "python",
   "pygments_lexer": "ipython2",
   "version": "2.7.13"
  }
 },
 "nbformat": 4,
 "nbformat_minor": 2
}
